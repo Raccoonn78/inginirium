{
 "cells": [
  {
   "attachments": {},
   "cell_type": "markdown",
   "metadata": {},
   "source": [
    "# Что такое функции "
   ]
  },
  {
   "attachments": {},
   "cell_type": "markdown",
   "metadata": {},
   "source": [
    "### Обычно функция определяется с помощью инструкции def.\n",
    "Пример"
   ]
  },
  {
   "cell_type": "code",
   "execution_count": 1,
   "metadata": {},
   "outputs": [
    {
     "name": "stdout",
     "output_type": "stream",
     "text": [
      "None\n"
     ]
    }
   ],
   "source": [
    "\n",
    "def func(): \n",
    "        \n",
    "    pass # заполнении функции , ничего не делает \n",
    "\n",
    "\n",
    "\n",
    "\n",
    "func()\n",
    "print( func() )\n"
   ]
  },
  {
   "cell_type": "code",
   "execution_count": 4,
   "metadata": {},
   "outputs": [
    {
     "name": "stdout",
     "output_type": "stream",
     "text": [
      "1\n"
     ]
    }
   ],
   "source": [
    "\n",
    "def name():\n",
    "        \n",
    "    text=1\n",
    "\n",
    "    print(text)\n",
    "\n",
    "\n",
    "name()\n"
   ]
  },
  {
   "attachments": {},
   "cell_type": "markdown",
   "metadata": {},
   "source": [
    "# Каждая функция может что то возвращать при помощи return , при помощи него функция может сразу заканчиваться , если retrun нет , то она будет идти последовательно пока не выполнит все операции, а если есть return , то сразу закончится и возвратит то значение которое мы передали в return \n",
    "Пример"
   ]
  },
  {
   "cell_type": "code",
   "execution_count": 16,
   "metadata": {},
   "outputs": [
    {
     "name": "stdout",
     "output_type": "stream",
     "text": [
      "3\n",
      "1003\n"
     ]
    }
   ],
   "source": [
    "\n",
    "\n",
    "def dima():\n",
    "    a=2\n",
    "    b=0\n",
    "    c=a-b\n",
    "    return c\n",
    "\n",
    "def name1():\n",
    "    a=1\n",
    "    if a==0:\n",
    "        return 1\n",
    "    else:\n",
    "\n",
    "        a = 2\n",
    "        b=1\n",
    "        c=a+b\n",
    "        return c\n",
    "\n",
    "#print(dima())\n",
    "\n",
    "func= name1()\n",
    "#print(func)\n",
    "new_1= func + 1000\n",
    "print(func)\n",
    "print(new_1)\n",
    "# name1()\n",
    "#print(name1())\n",
    "\n",
    "# print(name1()) # вызов функции с print \n",
    "\n",
    "#name1()\n",
    "\n"
   ]
  },
  {
   "cell_type": "code",
   "execution_count": 24,
   "metadata": {},
   "outputs": [
    {
     "name": "stdout",
     "output_type": "stream",
     "text": [
      "Sum of 5 and 10000 is 10005\n"
     ]
    }
   ],
   "source": [
    "\n",
    "def sum(as12, qwe):\n",
    "\n",
    "    first= as12\n",
    "    second= qwe\n",
    "\n",
    "    return (as12+second)\n",
    "\n",
    "a = int(input('Enter 1st number: '))\n",
    "b = int(input('Enter 2nd number: '))\n",
    "\n",
    "#print(   f'Sum of {a} and {b} is {sum(a, b)}'   )\n",
    "print( 'sum of ', a, 'and', b, 'is', sum(a,b))\n"
   ]
  },
  {
   "attachments": {},
   "cell_type": "markdown",
   "metadata": {},
   "source": [
    "### Функция может принимать значения "
   ]
  },
  {
   "cell_type": "code",
   "execution_count": 22,
   "metadata": {},
   "outputs": [
    {
     "name": "stdout",
     "output_type": "stream",
     "text": [
      "1\n",
      "99\n",
      "10000\n",
      "10100\n"
     ]
    }
   ],
   "source": [
    "def func(x,y, q=77): # q - необязательная переменная \n",
    "    print(x)\n",
    "    print(y)\n",
    "    print(q)\n",
    "    return ( x+y+q )\n",
    "\n",
    "\n",
    "\n",
    "#print(func(57,999))\n",
    "\n",
    "\n",
    "print(   func(1,99,10000)      )"
   ]
  },
  {
   "cell_type": "code",
   "execution_count": 23,
   "metadata": {},
   "outputs": [
    {
     "name": "stdout",
     "output_type": "stream",
     "text": [
      "6\n"
     ]
    }
   ],
   "source": [
    "def func(x,y):\n",
    "\n",
    "    return len(x+y)\n",
    "\n",
    "\n",
    "\n",
    "print(func('qwe','ewq'))"
   ]
  },
  {
   "attachments": {},
   "cell_type": "markdown",
   "metadata": {},
   "source": [
    "### Может быть вложенной или через себя вызывать другую функцию , тогда это будет стек (проходили его в первом модуле)\n",
    "### Рекурсивная функция "
   ]
  },
  {
   "cell_type": "code",
   "execution_count": null,
   "metadata": {},
   "outputs": [],
   "source": [
    "\n",
    "def newfunc(n):\n",
    "\n",
    "     def myfunc(x):\n",
    "         return x + n # относится к  myfunc\n",
    "\n",
    "     return myfunc # относится к newfunc\n",
    "\n",
    "new = newfunc(100) # # new - это функция\n",
    "print(new)\n",
    "print(new(200)) \n"
   ]
  },
  {
   "cell_type": "code",
   "execution_count": 30,
   "metadata": {},
   "outputs": [
    {
     "name": "stdout",
     "output_type": "stream",
     "text": [
      "5\n",
      "6\n",
      "6\n",
      "1115\n"
     ]
    }
   ],
   "source": [
    "def func(a, b, c=2): # c - необязательный аргумент\n",
    "\n",
    "     return a + b + c\n",
    "\n",
    "\n",
    "\n",
    "print(func(1, 2) ) # a = 1, b = 2, c = 2 (по умолчанию)\n",
    "\n",
    "print(func(1, 2, 3) ) # a = 1, b = 2, c = 3\n",
    "print(func(a=1, b=3) ) # a = 1, b = 3, c = 2\n",
    "print(func(1 ,1111, c=3) ) # a = 3, c = 6, b не определен"
   ]
  },
  {
   "attachments": {},
   "cell_type": "markdown",
   "metadata": {},
   "source": [
    "### Функция также может принимать переменное количество позиционных аргументов, тогда перед именем ставится *:"
   ]
  },
  {
   "cell_type": "code",
   "execution_count": null,
   "metadata": {},
   "outputs": [],
   "source": [
    "def func(*args): \n",
    "\n",
    "    return args\n",
    "\n",
    "\n",
    "#print(   func(1, 2, 3, 'abc') )\n",
    "\n",
    "#print( func() )\n",
    "\n",
    "func(1)\n"
   ]
  },
  {
   "attachments": {},
   "cell_type": "markdown",
   "metadata": {},
   "source": [
    "### Как видно из примера, args - это кортеж из всех переданных аргументов функции, и с переменной можно работать также, как и с кортежем.\n",
    "\n",
    "### Функция может принимать и произвольное число именованных аргументов, тогда перед именем ставится **\n",
    "### В переменной kwargs у нас хранится словарь, с которым мы, опять-таки, можем делать все, что нам заблагорассудится."
   ]
  },
  {
   "cell_type": "code",
   "execution_count": null,
   "metadata": {},
   "outputs": [],
   "source": [
    "def func(**kwargs):\n",
    "\n",
    "    return kwargs\n",
    "\n",
    "\n",
    "#print(func(a=1, b=2, c=3))\n",
    "#func()\n",
    "func(a='python')"
   ]
  },
  {
   "cell_type": "code",
   "execution_count": 1,
   "metadata": {},
   "outputs": [],
   "source": [
    "a = 1\n",
    "a='2222,hi'\n",
    "a=1.5555\n",
    "a=True\n",
    "a= False \n",
    "\n",
    "a=[1,2]\n",
    "a.append(2)\n",
    "b=len(a)\n"
   ]
  },
  {
   "attachments": {},
   "cell_type": "markdown",
   "metadata": {},
   "source": [
    "# Рекурсивные функции\n",
    "Нахождение факториала  (!!!!!!)"
   ]
  },
  {
   "cell_type": "code",
   "execution_count": 3,
   "metadata": {},
   "outputs": [
    {
     "name": "stdout",
     "output_type": "stream",
     "text": [
      "120\n"
     ]
    }
   ],
   "source": [
    "\n",
    "def fac( n ):\n",
    "    \n",
    "    if n == 0:\n",
    "        return 1\n",
    "\n",
    "    return fac(n-1) * n  \n",
    " \n",
    "\n",
    "\n",
    "print(fac(5))"
   ]
  },
  {
   "attachments": {},
   "cell_type": "markdown",
   "metadata": {},
   "source": [
    "0 шаг. Вызов функции: fac(5)\n",
    "1. fac(5) возвращает fac(4) * 5\n",
    "2. fac(4) => fac(3) * 4\n",
    "3. fac(3) => fac(2) * 3\n",
    "4. fac(2) => fac(1) * 2\n",
    "5. fac(1) => 1\n",
    "6. 1 * 2 - возврат в вызов fac(2)\n",
    "7. 2 * 3 - fac(3)\n",
    "8. 6 * 4 - fac(4)\n",
    "9. 24 * 5 – fac(5)\n",
    "10. Возврат в основную ветку программы значения 120."
   ]
  },
  {
   "attachments": {},
   "cell_type": "markdown",
   "metadata": {},
   "source": [
    "# Анонимные функции, инструкция lambda"
   ]
  },
  {
   "cell_type": "code",
   "execution_count": 1,
   "metadata": {},
   "outputs": [
    {
     "data": {
      "text/plain": [
       "3"
      ]
     },
     "execution_count": 1,
     "metadata": {},
     "output_type": "execute_result"
    }
   ],
   "source": [
    "func = lambda x, y: x + y\n",
    "\n",
    "func(1, 2)"
   ]
  },
  {
   "cell_type": "code",
   "execution_count": null,
   "metadata": {},
   "outputs": [],
   "source": [
    "(lambda x, y: x + y)(1, 2)\n",
    "#(lambda x, y: x + y)('a', 'b')"
   ]
  },
  {
   "attachments": {},
   "cell_type": "markdown",
   "metadata": {},
   "source": [
    "# Что такое map()"
   ]
  },
  {
   "cell_type": "code",
   "execution_count": null,
   "metadata": {},
   "outputs": [],
   "source": [
    "def square(number):\n",
    "       return number ** 2\n",
    "\n",
    "\n",
    "numbers = [1, 2, 3, 4, 5]\n",
    "squared = map(square, numbers)\n",
    "\n",
    "list(squared)\n"
   ]
  }
 ],
 "metadata": {
  "kernelspec": {
   "display_name": "Python 3",
   "language": "python",
   "name": "python3"
  },
  "language_info": {
   "codemirror_mode": {
    "name": "ipython",
    "version": 3
   },
   "file_extension": ".py",
   "mimetype": "text/x-python",
   "name": "python",
   "nbconvert_exporter": "python",
   "pygments_lexer": "ipython3",
   "version": "3.10.9 (tags/v3.10.9:1dd9be6, Dec  6 2022, 20:01:21) [MSC v.1934 64 bit (AMD64)]"
  },
  "orig_nbformat": 4,
  "vscode": {
   "interpreter": {
    "hash": "5b4db7f276a6916ba8e3292a76bb1fa4a8499826366edb3126b3e9f0362fd1d0"
   }
  }
 },
 "nbformat": 4,
 "nbformat_minor": 2
}
