{
 "cells": [
  {
   "attachments": {},
   "cell_type": "markdown",
   "metadata": {},
   "source": [
    "# Важный момент с print \n",
    "\n",
    "#### sep=' '   # пробел\n",
    "#### end='\\n'  # перевод строки"
   ]
  },
  {
   "cell_type": "code",
   "execution_count": 5,
   "metadata": {},
   "outputs": [
    {
     "name": "stdout",
     "output_type": "stream",
     "text": [
      "a*b*c\n",
      "d**e**f\n",
      "a b c@\n",
      "d e f@@"
     ]
    }
   ],
   "source": [
    "print('a', 'b', 'c', sep='*')\n",
    "print('d', 'e', 'f', sep='**')\n",
    "print('a', 'b', 'c', end='@')\n",
    "print()\n",
    "print('d', 'e', 'f', end='@@')"
   ]
  },
  {
   "attachments": {},
   "cell_type": "markdown",
   "metadata": {},
   "source": [
    "### Пирамидка"
   ]
  },
  {
   "cell_type": "code",
   "execution_count": null,
   "metadata": {},
   "outputs": [],
   "source": [
    "n=10\n",
    "for i in range(n): print(' ' * (n-i-1) +  '*' * (i*2+1))"
   ]
  },
  {
   "attachments": {},
   "cell_type": "markdown",
   "metadata": {},
   "source": [
    "### Напишите программу, которая выводит слова введённой строки (части, разделённые символами пустого пространства) в столбик. Нужно обойтись без явного использования циклов и списочных выражений, в программе должен быть всего один вызов print\n"
   ]
  },
  {
   "cell_type": "code",
   "execution_count": null,
   "metadata": {},
   "outputs": [],
   "source": [
    "print('\\n'.join(input().split()))\n"
   ]
  },
  {
   "attachments": {},
   "cell_type": "markdown",
   "metadata": {},
   "source": [
    "### Тема 8 _ Задание 1\n",
    "\n",
    "Весь текст записан в единственной строке. Текст состоит из английских букв и пробелов, других символов в тексте нет. В тексте не может быть двух или более пробелов подряд.\n",
    "\n",
    "\n",
    "Выведите каждое слово исходного текста, закодированное азбукой Морзе, на отдельной строке. Количество строк в ответе должно совпадать с количеством слов в исходном тексте.\n",
    "\n",
    "Help me SOS\n",
    "\n",
    ".... . .-.. .--.\n",
    "-- .\n",
    "... --- ...\n"
   ]
  },
  {
   "cell_type": "code",
   "execution_count": 2,
   "metadata": {},
   "outputs": [
    {
     "name": "stdout",
     "output_type": "stream",
     "text": [
      "['hello', 'python', '123']\n",
      ".... . .-.. .-.. ---\n",
      ".--. -.-- - .... --- -.\n",
      ".---- ..--- ...--\n"
     ]
    }
   ],
   "source": [
    "sp = {'a': '.-', 'b': '-...', 'c': '-.-.', 'd': '-..', 'e': '.', 'f': '..-.',\n",
    "      'g': '--.', 'h': '....', 'i': '..', 'j': '.---', 'k': '-.-', 'l': '.-..', 'm': '--', 'n': '-.',\n",
    "      'o': '---', 'p':\n",
    "          '.--.', 'q': '--.-',\n",
    "      'r': '.-.', 's': '...', 't': '-', 'u': '..-', 'v': '...-', 'w': '.--', 'x': '-..-',\n",
    "      'y': '-.--', 'z': '--..',\n",
    "      '.': '.', '-': '-', '1': '.----', '2': '..---', '3': '...--', '4': '....-',\n",
    "      '5': '.....',\n",
    "      '6': '-....', '7': '--...', '8': '---..', '9': '----.', '0': '-----'}\n",
    "\n",
    "\n",
    "text = input().lower().split() # спрашиваем у пользователя , переводим это все в нижний \n",
    "                               # регистр и разъединяем через пробле в список \n",
    "print(text)\n",
    "for i in text:\n",
    "    print(' '.join(sp[j] for j in i))\n"
   ]
  },
  {
   "attachments": {},
   "cell_type": "markdown",
   "metadata": {},
   "source": [
    "### Тема 9 Матрицы задача \"Змейка\""
   ]
  },
  {
   "cell_type": "code",
   "execution_count": 1,
   "metadata": {},
   "outputs": [
    {
     "name": "stdout",
     "output_type": "stream",
     "text": [
      "1 2 3 4 5\n",
      "10 9 8 7 6\n",
      "11 12 13 14 15\n"
     ]
    }
   ],
   "source": [
    "n=3\n",
    "m=5\n",
    "for j in range(n):\n",
    "        print(*[j * m + i + 1 + (j % 2) * (m - 2 * i - 1) for i in range(m)], sep=' ')"
   ]
  },
  {
   "attachments": {},
   "cell_type": "markdown",
   "metadata": {},
   "source": [
    "### Множества и словари \n"
   ]
  },
  {
   "attachments": {},
   "cell_type": "markdown",
   "metadata": {},
   "source": [
    "#### Множество в python - \"контейнер\", содержащий не повторяющиеся элементы в случайном порядке."
   ]
  },
  {
   "cell_type": "code",
   "execution_count": 30,
   "metadata": {},
   "outputs": [
    {
     "data": {
      "text/plain": [
       "dict"
      ]
     },
     "execution_count": 30,
     "metadata": {},
     "output_type": "execute_result"
    }
   ],
   "source": [
    "a = set()\n",
    "#>a\n",
    "set()\n",
    "a = set('hello')\n",
    "a\n",
    "# #{'h', 'o', 'l', 'e'}\n",
    "a = {'a', 'b', 'c', 'd'}\n",
    "a\n",
    "# #{'b', 'c', 'a', 'd'}\n",
    "a = {i ** 2 for i in range(10)} # генератор множеств случайных неповторяющихся \n",
    "a\n",
    "# #{0, 1, 4, 81, 64, 9, 16, 49, 25, 36}\n",
    "a = {}  # А так нельзя!\n",
    "type(a)\n",
    "# #<class 'dict'>"
   ]
  },
  {
   "attachments": {},
   "cell_type": "markdown",
   "metadata": {},
   "source": [
    "### С множествами можно выполнять множество операций: находить объединение, пересечение...\n",
    "\n",
    "###### len(s) - число элементов в множестве (размер множества).\n",
    "###### x in s - принадлежит ли x множеству s.\n",
    "###### set.isdisjoint(other) - истина, если set и other не имеют общих элементов.\n",
    "###### set == other - все элементы set принадлежат other, все элементы other принадлежат set.\n",
    "###### set.issubset(other) или set <= other - все элементы set принадлежат other.\n",
    "###### set.issuperset(other) или set >= other - аналогично.\n",
    "###### set.union(other, ...) или set | other | ... - объединение нескольких множеств.\n",
    "###### set.intersection(other, ...) или set & other & ... - пересечение.\n",
    "###### set.difference(other, ...) или set - other - ... - множество из всех элементов set, не принадлежащие ни одному из other.\n",
    "###### set.symmetric_difference(other); set ^ other - множество из элементов, встречающихся в одном множестве, но не встречающиеся в обоих.\n",
    "###### set.copy() - копия множества."
   ]
  },
  {
   "cell_type": "code",
   "execution_count": 13,
   "metadata": {},
   "outputs": [
    {
     "name": "stdout",
     "output_type": "stream",
     "text": [
      "{'apple', 'orange', 'cola'}\n"
     ]
    }
   ],
   "source": [
    "product={'orange', 'apple', 'cola', 'orange'}\n",
    "print(product)"
   ]
  },
  {
   "cell_type": "code",
   "execution_count": 36,
   "metadata": {},
   "outputs": [
    {
     "name": "stdout",
     "output_type": "stream",
     "text": [
      "True\n",
      "+\n",
      "I_n_g_i_n_i_r_i_u_m_"
     ]
    }
   ],
   "source": [
    "name = 'Inginirium'\n",
    "\n",
    "print('In' in name)\n",
    "\n",
    "if 'iri' in name:\n",
    "    print('+')\n",
    "else:\n",
    "    print('-')\n",
    "\n",
    "\n",
    "\n",
    "for e in name:\n",
    "    print(e, end='_')\n"
   ]
  },
  {
   "attachments": {},
   "cell_type": "markdown",
   "metadata": {},
   "source": [
    "### Добавление во множество "
   ]
  },
  {
   "cell_type": "code",
   "execution_count": 32,
   "metadata": {},
   "outputs": [
    {
     "name": "stdout",
     "output_type": "stream",
     "text": [
      "True\n",
      "{'apple', 'orange', 'green'}\n",
      "False\n"
     ]
    }
   ],
   "source": [
    "product={'orange', 'apple', 'cola', 'orange'}\n",
    "\n",
    "product.add('green') # добавление элеметна\n",
    "\n",
    "print('cola' in product)\n",
    "\n",
    "product.remove('cola') # удаляет первый найденный совподающий элемент\n",
    "\n",
    "print(product)\n",
    "print('cola' in product)"
   ]
  },
  {
   "attachments": {},
   "cell_type": "markdown",
   "metadata": {},
   "source": [
    "### Поиск в словаре "
   ]
  },
  {
   "cell_type": "code",
   "execution_count": 6,
   "metadata": {},
   "outputs": [
    {
     "name": "stdout",
     "output_type": "stream",
     "text": [
      "ключ   значение\n",
      "ключ1   значение2\n",
      "ключ2   значение1\n"
     ]
    }
   ],
   "source": [
    "h2= {\n",
    "\n",
    "}\n",
    "\n",
    "h1 = {\n",
    "   'ключ':\"значение\",\n",
    "     'ключ1':\"значение2\",\n",
    "      'ключ2':\"значение4\"\n",
    "    }\n",
    "\n",
    "\n",
    "for key, value in h1.items():\n",
    "    print(key, \" \", value)"
   ]
  },
  {
   "cell_type": "code",
   "execution_count": 3,
   "metadata": {},
   "outputs": [
    {
     "data": {
      "text/plain": [
       "{'ключ': 'значение', 'ключ1': 'значение1', 'ключ2': 'значение2'}"
      ]
     },
     "execution_count": 3,
     "metadata": {},
     "output_type": "execute_result"
    }
   ],
   "source": [
    "h1 = {\n",
    "   'ключ':\"значение\",\n",
    "     'ключ1':\"значение1\",\n",
    "      'ключ2':\"значение2\"\n",
    "    }\n",
    "\n",
    "    \n",
    "h1"
   ]
  },
  {
   "cell_type": "code",
   "execution_count": null,
   "metadata": {},
   "outputs": [],
   "source": [
    "mat={'ключ':\"значение\",\n",
    "     'ключ1':\"значение1\",\n",
    "      'ключ2':\"значение2\"\n",
    "    }\n",
    "\n",
    "for key, value in h1.items():\n",
    "    print(key, \" \", value)"
   ]
  },
  {
   "attachments": {},
   "cell_type": "markdown",
   "metadata": {},
   "source": [
    "### Функция MAP()"
   ]
  },
  {
   "cell_type": "code",
   "execution_count": 1,
   "metadata": {},
   "outputs": [
    {
     "name": "stdout",
     "output_type": "stream",
     "text": [
      "<map object at 0x000001F057C6D4B0>\n",
      "[5, 6, 6]\n"
     ]
    }
   ],
   "source": [
    "x = map(len, ('apple', 'banana', 'cherry'))\n",
    "print(x)\n",
    "#НАГЛЯДНО ПОКАЗАНО ЧТО У НАС В В Python нет переменных, вместо них имена. \n",
    "print(list(x))"
   ]
  },
  {
   "attachments": {},
   "cell_type": "markdown",
   "metadata": {},
   "source": [
    "### Функция INSERT()\n",
    "Добавление элемента в конец списка"
   ]
  },
  {
   "cell_type": "code",
   "execution_count": null,
   "metadata": {},
   "outputs": [],
   "source": [
    "sp = [1, 2, 3]\n",
    "sp.insert(0, 5)\n",
    "print(sp)"
   ]
  },
  {
   "attachments": {},
   "cell_type": "markdown",
   "metadata": {},
   "source": [
    "### Зада́ча о кёнигсбе́ргских моста́х\n",
    "старинная математическая задача, в которой спрашивалось, как можно пройти по всем семи мостам центра старого Кёнигсберга, не проходя ни по одному из них дважды"
   ]
  },
  {
   "attachments": {
    "image.png": {
     "image/png": "[encoded data removed]"
    }
   },
   "cell_type": "markdown",
   "metadata": {},
   "source": [
    "![image.png](attachment:image.png)"
   ]
  },
  {
   "attachments": {
    "image.png": {
     "image/png": "[encoded data removed]"
    }
   },
   "cell_type": "markdown",
   "metadata": {},
   "source": [
    "![image.png](attachment:image.png)"
   ]
  },
  {
   "attachments": {},
   "cell_type": "markdown",
   "metadata": {},
   "source": [
    "### Начнём с определений, перейдём к теоремам и закончим следствиями:\n",
    "\n",
    "#### эйлерова цепь — последовательность рёбер (соседние рёбра имеют общую вершину), которая обходит все рёбра графа по одному разу;\n",
    "#### эйлеров цикл — замкнутая эйлерова цепь.\n",
    "Следующие две теоремы впервые появились в статье Леонарда Эйлера о кёнигсбергских мостах:\n",
    "\n",
    "##### первая теорема Эйлера, 1736. Граф с двумя или более вершинами имеет эйлеров цикл тогда и только тогда, когда в каждую вершину входит чётное число рёбер;\n",
    "##### вторая теорема Эйлера, 1736. Граф с двумя или более вершинами имеет единственную эйлерову цепь тогда и только тогда, когда ровно в две вершины входит нечётное число рёбер. \n",
    "##### Из этих двух теорем можно вывести три следствия:\n",
    "\n",
    "#### если граф с двумя вершинами, в которые входит нечётное число рёбер, имеет эйлерову цепь, то эти две вершины — начальная и конечная вершины цепи;\n",
    "#### граф с двумя или более вершинами имеет эйлерову цепь тогда и только тогда, когда либо в каждую вершину входит чётное число рёбер, либо ровно в две вершины входит нечётное число рёбер;\n",
    "#### задача о кёнигсбергских мостах не имеет решения, поскольку в графе этой задачи нечётную степень имеют четыре вершины."
   ]
  }
 ],
 "metadata": {
  "kernelspec": {
   "display_name": "Python 3",
   "language": "python",
   "name": "python3"
  },
  "language_info": {
   "codemirror_mode": {
    "name": "ipython",
    "version": 3
   },
   "file_extension": ".py",
   "mimetype": "text/x-python",
   "name": "python",
   "nbconvert_exporter": "python",
   "pygments_lexer": "ipython3",
   "version": "3.10.10"
  },
  "orig_nbformat": 4,
  "vscode": {
   "interpreter": {
    "hash": "5b4db7f276a6916ba8e3292a76bb1fa4a8499826366edb3126b3e9f0362fd1d0"
   }
  }
 },
 "nbformat": 4,
 "nbformat_minor": 2
}
