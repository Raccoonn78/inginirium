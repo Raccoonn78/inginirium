{
 "cells": [
  {
   "attachments": {},
   "cell_type": "markdown",
   "metadata": {},
   "source": [
    "# Условия "
   ]
  },
  {
   "cell_type": "code",
   "execution_count": null,
   "metadata": {},
   "outputs": [],
   "source": [
    "if True:\n",
    "    print('верно')\n",
    "else:\n",
    "    print('не верно ')\n",
    "    "
   ]
  },
  {
   "attachments": {},
   "cell_type": "markdown",
   "metadata": {},
   "source": [
    "# Циклы"
   ]
  },
  {
   "cell_type": "code",
   "execution_count": null,
   "metadata": {},
   "outputs": [],
   "source": [
    "print('Вывод информации') \n",
    "# range(n) - длинна нашего цикла \n",
    "# переменная i создается автоматически со значением 0 \n",
    "# можете зосздать любую переменную не обязательно i\n",
    "# \n",
    "\n",
    "for i in range(10):\n",
    "    print(i)"
   ]
  },
  {
   "cell_type": "code",
   "execution_count": null,
   "metadata": {},
   "outputs": [],
   "source": [
    "# цикл while \n",
    "# цикл может быть бесконечным \n",
    "while True:\n",
    "    print('выполнение цикла while ')\n",
    "\n",
    "# пока в условии цикла будет верное условие то цикл будет выполняться \n"
   ]
  },
  {
   "attachments": {},
   "cell_type": "markdown",
   "metadata": {},
   "source": [
    "## Ветвление программы, Ошибки и исключения, Логические операции, Циклы for, while (4 step)\n"
   ]
  },
  {
   "attachments": {},
   "cell_type": "markdown",
   "metadata": {},
   "source": [
    "#### Задание 1"
   ]
  },
  {
   "cell_type": "code",
   "execution_count": 15,
   "metadata": {},
   "outputs": [
    {
     "name": "stdout",
     "output_type": "stream",
     "text": [
      "100\n",
      "99\n",
      "98\n",
      "97\n",
      "96\n",
      "95\n",
      "94\n",
      "93\n",
      "92\n",
      "91\n",
      "90\n",
      "89\n",
      "88\n",
      "87\n",
      "86\n",
      "85\n",
      "84\n",
      "83\n",
      "82\n",
      "81\n",
      "80\n",
      "79\n",
      "78\n",
      "77\n",
      "76\n",
      "75\n",
      "74\n",
      "73\n",
      "72\n",
      "71\n",
      "70\n",
      "69\n",
      "68\n",
      "67\n",
      "66\n",
      "65\n",
      "64\n",
      "63\n",
      "62\n",
      "61\n",
      "60\n",
      "59\n",
      "58\n",
      "57\n",
      "56\n",
      "55\n",
      "54\n",
      "53\n",
      "52\n",
      "51\n",
      "50\n",
      "49\n",
      "48\n",
      "47\n",
      "46\n",
      "45\n",
      "44\n",
      "43\n",
      "42\n",
      "41\n",
      "40\n",
      "39\n",
      "38\n",
      "37\n",
      "36\n",
      "35\n",
      "34\n",
      "33\n",
      "32\n",
      "31\n",
      "30\n",
      "29\n",
      "28\n",
      "27\n",
      "26\n",
      "25\n",
      "24\n",
      "23\n",
      "22\n",
      "21\n",
      "20\n",
      "19\n",
      "18\n",
      "17\n",
      "16\n",
      "15\n",
      "14\n",
      "13\n",
      "12\n",
      "11\n",
      "10\n",
      "9\n",
      "8\n",
      "7\n",
      "6\n",
      "5\n",
      "4\n",
      "3\n",
      "2\n",
      "1\n",
      "10\n",
      "9\n",
      "8\n",
      "7\n",
      "6\n",
      "5\n",
      "4\n",
      "3\n",
      "2\n",
      "1\n",
      "поехали\n"
     ]
    }
   ],
   "source": [
    "# Задание 1\n",
    "n=100\n",
    "while n!=0:\n",
    "    print(n)\n",
    "    n-=1 # n=n-1\n",
    "\n",
    "for i in range(10,0,-1):\n",
    "    print(i)\n",
    "\n",
    "print(\"поехали\")\n",
    "\n"
   ]
  },
  {
   "attachments": {},
   "cell_type": "markdown",
   "metadata": {},
   "source": [
    "#### Задание 2"
   ]
  },
  {
   "cell_type": "code",
   "execution_count": 16,
   "metadata": {},
   "outputs": [
    {
     "name": "stdout",
     "output_type": "stream",
     "text": [
      "1  * 5  ==  5\n",
      "2  * 5  ==  10\n",
      "3  * 5  ==  15\n",
      "4  * 5  ==  20\n",
      "5  * 5  ==  25\n",
      "6  * 5  ==  30\n",
      "7  * 5  ==  35\n",
      "8  * 5  ==  40\n",
      "9  * 5  ==  45\n"
     ]
    }
   ],
   "source": [
    "for j in range(1,10,1):\n",
    "    print(j,' * 5 ','== ',j*5)"
   ]
  },
  {
   "attachments": {},
   "cell_type": "markdown",
   "metadata": {},
   "source": [
    "#### Задание 3"
   ]
  },
  {
   "cell_type": "code",
   "execution_count": null,
   "metadata": {},
   "outputs": [],
   "source": [
    "\n",
    "asd = 9\n",
    "for j in range(1,10,1):\n",
    "    print(j,' * 5 ','== ',j*asd)"
   ]
  },
  {
   "attachments": {},
   "cell_type": "markdown",
   "metadata": {},
   "source": [
    "#### Задание 4 и 5"
   ]
  },
  {
   "cell_type": "code",
   "execution_count": 17,
   "metadata": {},
   "outputs": [
    {
     "name": "stdout",
     "output_type": "stream",
     "text": [
      "1  *  1  ==  1\n",
      "1  *  2  ==  2\n",
      "1  *  3  ==  3\n",
      "1  *  4  ==  4\n",
      "1  *  5  ==  5\n",
      "1  *  6  ==  6\n",
      "1  *  7  ==  7\n",
      "1  *  8  ==  8\n",
      "1  *  9  ==  9\n",
      "2  *  1  ==  2\n",
      "2  *  2  ==  4\n",
      "2  *  3  ==  6\n",
      "2  *  4  ==  8\n",
      "2  *  5  ==  10\n",
      "2  *  6  ==  12\n",
      "2  *  7  ==  14\n",
      "2  *  8  ==  16\n",
      "2  *  9  ==  18\n",
      "3  *  1  ==  3\n",
      "3  *  2  ==  6\n",
      "3  *  3  ==  9\n",
      "3  *  4  ==  12\n",
      "3  *  5  ==  15\n",
      "3  *  6  ==  18\n",
      "3  *  7  ==  21\n",
      "3  *  8  ==  24\n",
      "3  *  9  ==  27\n",
      "4  *  1  ==  4\n",
      "4  *  2  ==  8\n",
      "4  *  3  ==  12\n",
      "4  *  4  ==  16\n",
      "4  *  5  ==  20\n",
      "4  *  6  ==  24\n",
      "4  *  7  ==  28\n",
      "4  *  8  ==  32\n",
      "4  *  9  ==  36\n",
      "5  *  1  ==  5\n",
      "5  *  2  ==  10\n",
      "5  *  3  ==  15\n",
      "5  *  4  ==  20\n",
      "5  *  5  ==  25\n",
      "5  *  6  ==  30\n",
      "5  *  7  ==  35\n",
      "5  *  8  ==  40\n",
      "5  *  9  ==  45\n",
      "6  *  1  ==  6\n",
      "6  *  2  ==  12\n",
      "6  *  3  ==  18\n",
      "6  *  4  ==  24\n",
      "6  *  5  ==  30\n",
      "6  *  6  ==  36\n",
      "6  *  7  ==  42\n",
      "6  *  8  ==  48\n",
      "6  *  9  ==  54\n",
      "7  *  1  ==  7\n",
      "7  *  2  ==  14\n",
      "7  *  3  ==  21\n",
      "7  *  4  ==  28\n",
      "7  *  5  ==  35\n",
      "7  *  6  ==  42\n",
      "7  *  7  ==  49\n",
      "7  *  8  ==  56\n",
      "7  *  9  ==  63\n",
      "8  *  1  ==  8\n",
      "8  *  2  ==  16\n",
      "8  *  3  ==  24\n",
      "8  *  4  ==  32\n",
      "8  *  5  ==  40\n",
      "8  *  6  ==  48\n",
      "8  *  7  ==  56\n",
      "8  *  8  ==  64\n",
      "8  *  9  ==  72\n",
      "9  *  1  ==  9\n",
      "9  *  2  ==  18\n",
      "9  *  3  ==  27\n",
      "9  *  4  ==  36\n",
      "9  *  5  ==  45\n",
      "9  *  6  ==  54\n",
      "9  *  7  ==  63\n",
      "9  *  8  ==  72\n",
      "9  *  9  ==  81\n"
     ]
    }
   ],
   "source": [
    "for i in range(1,10):\n",
    "    #print('--------------------------------------------\\n')\n",
    "    for j in range(1,10):\n",
    "        print(i,\" * \",j,' == ', i*j)"
   ]
  },
  {
   "attachments": {},
   "cell_type": "markdown",
   "metadata": {},
   "source": [
    "#### Задание 6 табл умнож. в два столбца"
   ]
  },
  {
   "cell_type": "code",
   "execution_count": null,
   "metadata": {},
   "outputs": [],
   "source": [
    "for i in range(1,10,2):\n",
    "    print('+##################################+')\n",
    "    \n",
    "    for j in range(1,10):\n",
    "        print('#  ',i,'*',j,'=',i*j , '  # ',i+1,'*',j,'=',(i+1)*j  ,\"  #\"  )\n",
    "        #print(f'#  {i}*{j}={i*j}  #  {i+1}*{j}={(1+i)*j}  #')\n",
    "\n",
    "        \n",
    "print('+##################################+')"
   ]
  },
  {
   "attachments": {},
   "cell_type": "markdown",
   "metadata": {},
   "source": [
    "#### Задание 7"
   ]
  },
  {
   "cell_type": "code",
   "execution_count": 18,
   "metadata": {},
   "outputs": [
    {
     "name": "stdout",
     "output_type": "stream",
     "text": [
      "99\n",
      "97\n",
      "95\n",
      "93\n",
      "91\n",
      "89\n",
      "87\n",
      "85\n",
      "83\n",
      "81\n",
      "79\n",
      "77\n",
      "75\n",
      "73\n",
      "71\n",
      "69\n",
      "67\n",
      "65\n",
      "63\n",
      "61\n",
      "59\n",
      "57\n",
      "55\n",
      "53\n",
      "51\n",
      "49\n",
      "47\n",
      "45\n",
      "43\n",
      "41\n",
      "39\n",
      "37\n",
      "35\n",
      "33\n",
      "31\n",
      "29\n",
      "27\n",
      "25\n",
      "23\n",
      "21\n",
      "19\n",
      "17\n",
      "15\n",
      "13\n",
      "11\n",
      "9\n",
      "7\n",
      "5\n",
      "3\n",
      "1\n"
     ]
    }
   ],
   "source": [
    "for i in range(99,0,-2):\n",
    "    print(i)"
   ]
  },
  {
   "attachments": {},
   "cell_type": "markdown",
   "metadata": {},
   "source": [
    "#### Задание 8 степень двойки"
   ]
  },
  {
   "cell_type": "code",
   "execution_count": 20,
   "metadata": {},
   "outputs": [
    {
     "name": "stdout",
     "output_type": "stream",
     "text": [
      "7 128\n"
     ]
    }
   ],
   "source": [
    "number = int(input())\n",
    "i = 1\n",
    "while 2**i <= number:\n",
    "    i += 1\n",
    "print(i-1, 2**(i-1))\n",
    "\n",
    "\n",
    "a= 2**6"
   ]
  },
  {
   "cell_type": "code",
   "execution_count": null,
   "metadata": {},
   "outputs": [],
   "source": [
    "for i in range(10,0,-1):\n",
    "    print(i)\n",
    "\n",
    "print(\"поехали\")"
   ]
  },
  {
   "attachments": {},
   "cell_type": "markdown",
   "metadata": {},
   "source": [
    "# Сторки и индексы  (step 5)\n",
    "\n",
    "\n"
   ]
  },
  {
   "attachments": {},
   "cell_type": "markdown",
   "metadata": {},
   "source": [
    "#### Списки\n",
    "##### У всех разная скорость чтения записи и поиска\n",
    "##### Списки Python схожи с массивами в других языках. В Python, пустой список может быть создан следующим образом:"
   ]
  },
  {
   "cell_type": "code",
   "execution_count": 9,
   "metadata": {},
   "outputs": [
    {
     "name": "stdout",
     "output_type": "stream",
     "text": [
      "[[1, 2, 3], ['a', 'b', 'c']]\n",
      "1\n"
     ]
    }
   ],
   "source": [
    "my_list = []\n",
    "my_list = list()\n",
    "my_list = [1, 2, 3]\n",
    "my_list2 = [\"a\", \"b\", \"c\"]\n",
    "my_list3 = [\"a\", 1, \"Python\", 5]\n",
    "my_nested_list = [my_list, my_list2] # получится матрица \n",
    "print(my_nested_list) # [[1, 2, 3], ['a', 'b', 'c']]'\n",
    "print(my_nested_list[0][0]) # 1"
   ]
  },
  {
   "attachments": {},
   "cell_type": "markdown",
   "metadata": {},
   "source": [
    "#### В какой-то момент вам может понадобиться скомбинировать два списка вместе. Первый способ сделать это – при помощи метода extend:"
   ]
  },
  {
   "cell_type": "code",
   "execution_count": 14,
   "metadata": {},
   "outputs": [
    {
     "name": "stdout",
     "output_type": "stream",
     "text": [
      "None\n",
      "[1, 2, 3, 'a', 'b', 'c']\n",
      "i=  10\n",
      "i=  9\n",
      "i=  8\n",
      "i=  7\n",
      "i=  6\n",
      "i=  5\n",
      "i=  4\n",
      "i=  3\n",
      "i=  2\n",
      "i=  1\n",
      "Длинна списка с len() = 3\n"
     ]
    }
   ],
   "source": [
    "combo_list = [1,2]\n",
    "one_list = [4, 5]\n",
    "a = combo_list.extend(one_list) # сложение списков\n",
    "a =combo_list.append(2432141) # append() добавляем в конец массива 100 \n",
    " \n",
    "print(a) # [1, 4, 5, 100]\n",
    "\n",
    "my_list = [1, 2, 3]\n",
    "my_list2 = [\"a\", \"b\", \"c\"]\n",
    "\n",
    "combo_list = my_list + my_list2\n",
    "print(combo_list) # [1, 2, 3, 'a', 'b', 'c']\n",
    "\n",
    "new_list= '123'\n",
    "\n",
    "\n",
    "for i in range(10,0, -1):\n",
    "    print('i= ',i)\n",
    "\n",
    "print('Длинна списка с len() =', len(my_list))\n",
    "    # print(my_list[i])\n"
   ]
  },
  {
   "attachments": {},
   "cell_type": "markdown",
   "metadata": {},
   "source": [
    "#### Вы также можете сортировать список. Давайте уделим немного времени и взглянем на то, как это делается:"
   ]
  },
  {
   "cell_type": "code",
   "execution_count": 4,
   "metadata": {},
   "outputs": [
    {
     "name": "stdout",
     "output_type": "stream",
     "text": [
      "[2, 23, 34, 67, 88, 100]\n"
     ]
    }
   ],
   "source": [
    "alpha_list = [34, 23, 67, 100, 88, 2]\n",
    "alpha_list.sort()\n",
    " \n",
    "print(alpha_list) # [2, 23, 34, 67, 88, 100]"
   ]
  },
  {
   "attachments": {},
   "cell_type": "markdown",
   "metadata": {},
   "source": [
    "#### В этом примере мы попытались назначить сортированный список переменной. Однако, когда вы вызываете метод sort() в списке, он сортирует список на месте. Так что если вы попробуете назначить результат другой переменной, тогда возникнет объект None, который аналогичен объекту Null в других языках. Таким образом, когда вам нужно отсортировать что-нибудь, просто помните, что вы сортируете на месте, и вы не можете назначить объект другой переменной.\n"
   ]
  },
  {
   "cell_type": "code",
   "execution_count": null,
   "metadata": {},
   "outputs": [],
   "source": [
    "alpha_list = [34, 23, 67, 100, 88, 2]\n",
    "sorted_list = alpha_list.sort()\n",
    " \n",
    "print(sorted_list) # None"
   ]
  },
  {
   "attachments": {},
   "cell_type": "markdown",
   "metadata": {},
   "source": [
    "### Картежи\n",
    "расзная скорость записи чтения и поиска"
   ]
  },
  {
   "attachments": {},
   "cell_type": "markdown",
   "metadata": {},
   "source": [
    "#### Разница в том, что кортеж неизменный, в то время как список может меняться."
   ]
  },
  {
   "cell_type": "code",
   "execution_count": 1,
   "metadata": {},
   "outputs": [
    {
     "name": "stdout",
     "output_type": "stream",
     "text": [
      "(1, 2, 3)\n"
     ]
    }
   ],
   "source": [
    "\n",
    "my_tuple = (1, 2, 3, 4, 5)\n",
    "a = my_tuple[0:3] # срез \n",
    "print(a) # (1, 2, 3) \n",
    "\n",
    "\n",
    "another_tuple = tuple() # пустой \n",
    "\n",
    "abc = tuple([1, 2, 3])\n"
   ]
  },
  {
   "attachments": {},
   "cell_type": "markdown",
   "metadata": {},
   "source": [
    "Данный код демонстрирует способ создания кортежа с пятью элементами. Также он говорит нам о том, что мы можете делать нарезку кортежей. Однако, вы не можете сортировать кортеж! Последние два примера показывают, как создавать кортеж при помощи ключевого слова tuple (которое и переводится как «кортеж»). Первый код просто создает пустой кортеж, в то время как во втором примере кортеж содержит три элемента. Обратите внимание на то, что в нем есть список. Это пример конвертации. Мы можем менять или конвертировать объект из одного типа данных в другой. В нашем случае, мы конвертируем список в кортеж. Если вы хотите превратить кортеж abc обратно в список, вы можете сделать это следующим образом:"
   ]
  },
  {
   "cell_type": "code",
   "execution_count": 3,
   "metadata": {},
   "outputs": [
    {
     "data": {
      "text/plain": [
       "[1, 2, 3]"
      ]
     },
     "execution_count": 3,
     "metadata": {},
     "output_type": "execute_result"
    }
   ],
   "source": [
    "abc_list = list(abc)\n",
    "abc_list"
   ]
  },
  {
   "attachments": {},
   "cell_type": "markdown",
   "metadata": {},
   "source": [
    "### Словарь (hash, хэш, предопределенный массив) – изменяемая структура данных, предназначенная для хранения элементов вида ключ: значение."
   ]
  },
  {
   "cell_type": "code",
   "execution_count": 21,
   "metadata": {},
   "outputs": [
    {
     "name": "stdout",
     "output_type": "stream",
     "text": [
      "ключ   one\n",
      "2   on\n",
      "3   o\n"
     ]
    }
   ],
   "source": [
    "h1 = {\n",
    "    'ключ':\"one\",\n",
    "    2:\"on\", \n",
    "    3:\"o\"\n",
    "    }\n",
    "\n",
    "h2 = {0:\"zero\", 5:\"five\"}\n",
    "\n",
    "h3 = {\"z\":1, \"y\":2, \"x\":3}\n",
    "\n",
    "for key, value in h1.items():\n",
    "    print(key, \" \", value)"
   ]
  },
  {
   "attachments": {},
   "cell_type": "markdown",
   "metadata": {},
   "source": [
    "##### Для поиска значений в словаре нужно использовать .items()"
   ]
  },
  {
   "attachments": {},
   "cell_type": "markdown",
   "metadata": {},
   "source": [
    "#### lower(): переводит строку в нижний регистр \n",
    "#### upper(): переводит строку в верхний регистр"
   ]
  },
  {
   "cell_type": "code",
   "execution_count": 31,
   "metadata": {},
   "outputs": [
    {
     "name": "stdout",
     "output_type": "stream",
     "text": [
      "asd\n"
     ]
    }
   ],
   "source": [
    "test = 'ASD'\n",
    "print(test.lower()) #!!!!!\n"
   ]
  },
  {
   "cell_type": "code",
   "execution_count": 2,
   "metadata": {},
   "outputs": [
    {
     "name": "stdout",
     "output_type": "stream",
     "text": [
      "ASD\n"
     ]
    }
   ],
   "source": [
    "test = 'asd'\n",
    "print(test.upper())"
   ]
  },
  {
   "attachments": {},
   "cell_type": "markdown",
   "metadata": {},
   "source": [
    "## Соединение и разбиение строк \n",
    "### при помощи .split() и .join()"
   ]
  },
  {
   "cell_type": "code",
   "execution_count": 12,
   "metadata": {},
   "outputs": [
    {
     "name": "stdout",
     "output_type": "stream",
     "text": [
      "привет\n"
     ]
    }
   ],
   "source": [
    "my_string = \"Всем привет и привет Python\"\n",
    "a= my_string.split()\n",
    "print(a[1])"
   ]
  },
  {
   "cell_type": "code",
   "execution_count": 23,
   "metadata": {},
   "outputs": [
    {
     "data": {
      "text/plain": [
       "['Apples', 'Oranges', 'Pears', 'Bananas', 'Berries']"
      ]
     },
     "execution_count": 23,
     "metadata": {},
     "output_type": "execute_result"
    }
   ],
   "source": [
    "my_string = \"Apples, Oranges, Pears, Bananas, Berries\"\n",
    "my_string.split(\", \")"
   ]
  },
  {
   "attachments": {},
   "cell_type": "markdown",
   "metadata": {},
   "source": [
    "#### Теперь давайте воспользуемся необязательным аргументом maxsplit и установив его равным 2."
   ]
  },
  {
   "cell_type": "code",
   "execution_count": 24,
   "metadata": {},
   "outputs": [
    {
     "data": {
      "text/plain": [
       "['Apples', 'Oranges', 'Pears,Bananas,Berries']"
      ]
     },
     "execution_count": 24,
     "metadata": {},
     "output_type": "execute_result"
    }
   ],
   "source": [
    "my_string = \"Apples,Oranges,Pears,Bananas,Berries\"\n",
    "my_string.split(\",\", 2)"
   ]
  },
  {
   "attachments": {},
   "cell_type": "markdown",
   "metadata": {},
   "source": [
    "## Join()"
   ]
  },
  {
   "cell_type": "code",
   "execution_count": 25,
   "metadata": {},
   "outputs": [
    {
     "data": {
      "text/plain": [
       "['Apples', 'Oranges', 'Pears', 'Bananas', 'Berries']"
      ]
     },
     "execution_count": 25,
     "metadata": {},
     "output_type": "execute_result"
    }
   ],
   "source": [
    "my_string = \"Apples,Oranges,Pears,Bananas,Berries\"\n",
    "my_list = my_string.split(\",\")\n",
    "my_list"
   ]
  },
  {
   "cell_type": "code",
   "execution_count": 26,
   "metadata": {},
   "outputs": [
    {
     "data": {
      "text/plain": [
       "'Apples, Oranges, Pears, Bananas, Berries'"
      ]
     },
     "execution_count": 26,
     "metadata": {},
     "output_type": "execute_result"
    }
   ],
   "source": [
    "#my_string = \"Apples,Oranges,Pears,Bananas,Berries\"\n",
    "\", \".join(my_list)\n",
    "#\"___\".join(my_list)"
   ]
  },
  {
   "attachments": {},
   "cell_type": "markdown",
   "metadata": {},
   "source": [
    "## Срезы строк"
   ]
  },
  {
   "cell_type": "code",
   "execution_count": 27,
   "metadata": {},
   "outputs": [
    {
     "name": "stdout",
     "output_type": "stream",
     "text": [
      "let\n",
      "Hex\n"
     ]
    }
   ],
   "source": [
    "value = 'Hexlet'\n",
    "print(value[3:])  # 'let'\n",
    "print(value[:3] ) # 'Hex'\n"
   ]
  },
  {
   "cell_type": "code",
   "execution_count": 28,
   "metadata": {},
   "outputs": [
    {
     "name": "stdout",
     "output_type": "stream",
     "text": [
      "2034\n"
     ]
    }
   ],
   "source": [
    "qwe = '12-08-2034'\n",
    "\n",
    "year = qwe[6:10]\n",
    "print(year)  # => 2034\n"
   ]
  },
  {
   "attachments": {},
   "cell_type": "markdown",
   "metadata": {},
   "source": [
    "\n",
    "#### третий параметр это шаг извлечения (код ниже)\n"
   ]
  },
  {
   "cell_type": "code",
   "execution_count": 29,
   "metadata": {},
   "outputs": [
    {
     "name": "stdout",
     "output_type": "stream",
     "text": [
      "el\n"
     ]
    }
   ],
   "source": [
    "qwe = 'Hexlet'\n",
    "print(qwe[1:5:2])  # el\n",
    "# 1:5 это 'exle'\n",
    "## шаг 2 это каждый второй, то есть 'e' и 'l'"
   ]
  },
  {
   "attachments": {},
   "cell_type": "markdown",
   "metadata": {},
   "source": [
    "### Пирамидка"
   ]
  },
  {
   "cell_type": "code",
   "execution_count": null,
   "metadata": {},
   "outputs": [],
   "source": [
    "n=10\n",
    "for i in range(n): print(' ' * (n-i-1) +  '*' * (i*2+1))"
   ]
  }
 ],
 "metadata": {
  "kernelspec": {
   "display_name": "Python 3",
   "language": "python",
   "name": "python3"
  },
  "language_info": {
   "codemirror_mode": {
    "name": "ipython",
    "version": 3
   },
   "file_extension": ".py",
   "mimetype": "text/x-python",
   "name": "python",
   "nbconvert_exporter": "python",
   "pygments_lexer": "ipython3",
   "version": "3.10.9 (tags/v3.10.9:1dd9be6, Dec  6 2022, 20:01:21) [MSC v.1934 64 bit (AMD64)]"
  },
  "orig_nbformat": 4,
  "vscode": {
   "interpreter": {
    "hash": "5b4db7f276a6916ba8e3292a76bb1fa4a8499826366edb3126b3e9f0362fd1d0"
   }
  }
 },
 "nbformat": 4,
 "nbformat_minor": 2
}
