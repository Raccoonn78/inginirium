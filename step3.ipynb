{
 "cells": [
  {
   "attachments": {},
   "cell_type": "markdown",
   "metadata": {},
   "source": [
    "####  Сложите цифры целого числа. 1234> 1+2+3+4="
   ]
  },
  {
   "cell_type": "code",
   "execution_count": null,
   "metadata": {},
   "outputs": [],
   "source": [
    "def sum_num(n):\n",
    "    \n",
    "    new_sum=0\n",
    "    for i in range(len(str(n))): # переводим число в строковый формат чтобы узнать его длину \n",
    "        new_sum= (int(n%10)) +new_sum  # n%10 > 6.0 > 6 \n",
    "        n=n/10    \n",
    "    \n",
    "    return new_sum\n",
    "\n",
    "print(sum_num(123456)) #  123456 > 1+2+3+4+5+6=21 \n"
   ]
  },
  {
   "cell_type": "code",
   "execution_count": null,
   "metadata": {},
   "outputs": [],
   "source": [
    "def num1(n):\n",
    "    print(sum(map(int, str(n))))\n",
    "\n",
    "num1(123456)"
   ]
  },
  {
   "attachments": {},
   "cell_type": "markdown",
   "metadata": {},
   "source": [
    "#### При заданном целом числе n посчитайте n + nn + nnn.\n",
    "\n",
    "##### на вход 7 > 7+77+777 > ответ сумма"
   ]
  },
  {
   "cell_type": "code",
   "execution_count": null,
   "metadata": {},
   "outputs": [],
   "source": [
    "def q(n):\n",
    "    \n",
    "    n1 = n\n",
    "    n2 = int(str(n) * 2) # 55\n",
    "    n3 = int(str(n) * 3) # 555\n",
    "    print(n1 + n2 + n3) #5+55+555\n",
    "    return n1 + n2 + n3\n",
    "\n",
    "\n",
    "q(3456)\n",
    "q(234567)\n",
    "q(7654321234)\n",
    "q(7)\n",
    "q(1)\n",
    "q(345676238709)\n",
    "q(12345678)\n",
    "q(1234569876543278)\n",
    "q(12345678)\n",
    "q(12345678)"
   ]
  },
  {
   "attachments": {},
   "cell_type": "markdown",
   "metadata": {},
   "source": [
    "#### Выведите первый и последний элемент списка. список может быть любой длинны "
   ]
  },
  {
   "cell_type": "code",
   "execution_count": null,
   "metadata": {},
   "outputs": [],
   "source": [
    "\n",
    "def list_pr(list_a): \n",
    "    print('list_a= ',list_a)\n",
    "    return list_a[0], list_a[-1]\n",
    "    #return bb,bbb\n",
    "def just_func(x):\n",
    "    print('Первый элемент списка:',x[0])\n",
    "    print('Последний элемент списка:', x[-1])\n",
    "\n",
    "\n",
    "\n",
    "a=[1,2,3,45,9999999999] # 1 и 9999999999     len(new_l)-1 [-1]\n",
    "aa=[1,2,3,45,23,42,34,235,34,63,4,634,56,4,5,345,239999999999] # \n",
    "aaa=[0,-1]# \n",
    "print(list_pr(a))\n",
    "print(list_pr(aa))\n",
    "print(list_pr(aaa))\n",
    "just_func(aa)"
   ]
  },
  {
   "attachments": {},
   "cell_type": "markdown",
   "metadata": {},
   "source": [
    "#### Есть список a = [1, 1, 2, 3, 5, 8, 13, 21, 34, 55, 89].\n",
    "#### Выведите все элементы, которые меньше 5."
   ]
  },
  {
   "cell_type": "code",
   "execution_count": null,
   "metadata": {},
   "outputs": [],
   "source": [
    "a = [1, 1, 2, 3, 5, 8, 13, 21, 34, 55, 89,5,1,2,3,3,3,3,3,3,3,3,2,3,23,2,32,3,23,1,23,123,12,31,231,2,13,12,31,31,2,123,12,312,31,3,13,12,3]\n",
    "\n",
    "def func(a):\n",
    "   new_a=[]\n",
    "   for i in range(len(a)): ### создаем цикл для проходв по списку \n",
    "      if a[i] <5 : # условие для отбора чисел \n",
    "         new_a.append(a[i]) # добавление в конец в новый списко\n",
    "\n",
    "   #return new_a\n",
    "  \n",
    "   return [i for i in a if i<5 ] \n",
    "\n",
    "\n"
   ]
  },
  {
   "attachments": {},
   "cell_type": "markdown",
   "metadata": {},
   "source": [
    "#### Дано вещественное число. Определить, какое это число: положительное, отрицательное, ноль."
   ]
  },
  {
   "cell_type": "code",
   "execution_count": null,
   "metadata": {},
   "outputs": [],
   "source": [
    "def func2(n):\n",
    "    if n==0: return 'ноль'\n",
    "    elif n>0: return \"положительное\"\n",
    "    else: return \"отрицательное\"\n",
    "\n",
    "print(func2(2))\n",
    "print(func2(-11111))\n",
    "print(func2(0))\n",
    "print(func2(-123)) \n",
    "\n"
   ]
  },
  {
   "attachments": {},
   "cell_type": "markdown",
   "metadata": {},
   "source": [
    "#### Дан одномерный массив числовых значений, насчитывающий N элементов. Исключить все нулевые элементы.[]"
   ]
  },
  {
   "cell_type": "code",
   "execution_count": 3,
   "metadata": {},
   "outputs": [
    {
     "name": "stdout",
     "output_type": "stream",
     "text": [
      "[123, 2, 34, 25, 345, 34, 54, 564, 56, 456, 4, 64, 64, 56, 45, 6, 63, 6, 357, 5686, 780, 70, 780, 7, 7087807807, 70780, 8070, 7807]\n"
     ]
    }
   ],
   "source": [
    "def del_list(a):\n",
    "    i = 0\n",
    "    while i < len(a):\n",
    "        if a[i] == 0:\n",
    "            a.pop(i)\n",
    "        else:\n",
    "            i += 1\n",
    "    return a\n",
    "\n",
    "def del_list2(a):\n",
    "    for i in range( len(a)-1,   -1,     -1): # range( 100 , -1 , -1 ) \n",
    "        if a[i] == 0: \n",
    "            a.pop(i)  # удаление по индексу \n",
    "    return a\n",
    "\n",
    "def del_list3(a):\n",
    "    return [x for x in a if x != 0] \n",
    "\n",
    "def del_list4(a):\n",
    "    b = []\n",
    "    for x in a:\n",
    "        if x != 0:\n",
    "            b += [x]\n",
    "    \n",
    "    return b\n",
    "\n",
    "\n",
    "def one(a):\n",
    "    new_a=[] # новый список\n",
    "    for i in a:\n",
    "        if i!=0 : # если i не равно 0\n",
    "            new_a.append(i)\n",
    "    print(new_a)\n",
    "\n",
    "new_list=[123,2,34,25,345,34,54,564,56,456,4,64,64,56,45,6,63,6,357,5686,0,780,70,780,7,0,0,7087807807,0,70780,8070,7807,0]\n",
    "# print(del_list(new_list))\n",
    "# print(del_list2(new_list))\n",
    "# print(del_list3(new_list))\n",
    "# print(del_list2(new_list))\n",
    "one(new_list)"
   ]
  },
  {
   "attachments": {},
   "cell_type": "markdown",
   "metadata": {},
   "source": [
    "\n",
    "#### 7. Данная программа должна вывести все числа в заданном диапазоне, которые делились бы без остатка на определенное число.\n",
    "Пример 1:\n",
    "Введите нижнюю границу диапазона:1\n",
    "Введите верхнюю границу диапазона:50\n",
    "Введите делитель:5\n",
    "5\n",
    "10\n",
    "15\n",
    "20\n",
    "25\n",
    "30\n",
    "35\n",
    "40\n",
    "45\n",
    "50\n",
    "\n",
    "\n"
   ]
  },
  {
   "cell_type": "code",
   "execution_count": 8,
   "metadata": {},
   "outputs": [
    {
     "name": "stdout",
     "output_type": "stream",
     "text": [
      "[5, 10, 15, 20, 25, 30, 35, 40, 45, 50]\n"
     ]
    }
   ],
   "source": [
    "def test_7(x,y,d):\n",
    "    a = []\n",
    "    for i in range(x, y+1):\n",
    "        if i%d == 0: # проверка на то что число делится без остатка \n",
    "            a += [i]\n",
    "    return a\n",
    "print(test_7(1,50,5))"
   ]
  }
 ],
 "metadata": {
  "kernelspec": {
   "display_name": "Python 3",
   "language": "python",
   "name": "python3"
  },
  "language_info": {
   "codemirror_mode": {
    "name": "ipython",
    "version": 3
   },
   "file_extension": ".py",
   "mimetype": "text/x-python",
   "name": "python",
   "nbconvert_exporter": "python",
   "pygments_lexer": "ipython3",
   "version": "3.10.10"
  },
  "orig_nbformat": 4,
  "vscode": {
   "interpreter": {
    "hash": "5b4db7f276a6916ba8e3292a76bb1fa4a8499826366edb3126b3e9f0362fd1d0"
   }
  }
 },
 "nbformat": 4,
 "nbformat_minor": 2
}
