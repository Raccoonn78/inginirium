{
 "cells": [
  {
   "attachments": {},
   "cell_type": "markdown",
   "metadata": {},
   "source": [
    "###  Сложите цифры целого числа."
   ]
  },
  {
   "cell_type": "code",
   "execution_count": 37,
   "metadata": {},
   "outputs": [
    {
     "name": "stdout",
     "output_type": "stream",
     "text": [
      "21\n"
     ]
    }
   ],
   "source": [
    "def sum_num(n):\n",
    "    new_sum=0\n",
    "    for i in range(len(str(n))):\n",
    "        new_sum=(int(n%10))+new_sum # n%10 > 6.0 > 6\n",
    "        n=n/10    \n",
    "    return new_sum\n",
    "print(sum_num(123456)) #  21"
   ]
  },
  {
   "attachments": {},
   "cell_type": "markdown",
   "metadata": {},
   "source": [
    "#### При заданном целом числе n посчитайте n + nn + nnn.\n",
    "\n",
    "##### на вход 7 > 7+77+777 > ответ сумма"
   ]
  },
  {
   "cell_type": "code",
   "execution_count": null,
   "metadata": {},
   "outputs": [],
   "source": [
    "def solve(n):\n",
    "    n1 = n\n",
    "    n2 = int(str(n) * 2) # 55\n",
    "    n3 = int(str(n) * 3) # 555\n",
    "    print(n1 + n2 + n3) #5+55+555\n",
    "\n",
    "solve(5)"
   ]
  },
  {
   "attachments": {},
   "cell_type": "markdown",
   "metadata": {},
   "source": [
    "#### Выведите первый и последний элемент списка."
   ]
  },
  {
   "cell_type": "code",
   "execution_count": 38,
   "metadata": {},
   "outputs": [
    {
     "name": "stdout",
     "output_type": "stream",
     "text": [
      "(1, 9999999999)\n",
      "(1, 239999999999)\n",
      "(0, 1)\n"
     ]
    }
   ],
   "source": [
    "def list_pr(new_l): \n",
    "    bb=new_l[0] # первый элемент списка\n",
    "    bbb= new_l[-1] # последний элемент списка \n",
    "    #print(bb,bbb) # вывод\n",
    "    return new_l[0], new_l[-1]\n",
    "    #return bb,bbb\n",
    "  \n",
    "new_l=[1,2,3,45,9999999999] # 1 и 9999999999     len(new_l)-1 [-1]\n",
    "new_ll=[1,2,3,45,23,42,34,235,34,63,4,634,56,4,5,345,239999999999] # \n",
    "new_lll=[0,1]# \n",
    "print(list_pr(new_l))\n",
    "print(list_pr(new_ll))\n",
    "print(list_pr(new_lll))"
   ]
  },
  {
   "attachments": {},
   "cell_type": "markdown",
   "metadata": {},
   "source": [
    "#### Есть список a = [1, 1, 2, 3, 5, 8, 13, 21, 34, 55, 89].\n",
    "#### Выведите все элементы, которые меньше 5."
   ]
  },
  {
   "cell_type": "code",
   "execution_count": 40,
   "metadata": {},
   "outputs": [
    {
     "data": {
      "text/plain": [
       "[1, 1, 2, 3]"
      ]
     },
     "execution_count": 40,
     "metadata": {},
     "output_type": "execute_result"
    }
   ],
   "source": [
    "a = [1, 1, 2, 3, 5, 8, 13, 21, 34, 55, 89]\n",
    "\n",
    "def func(a):\n",
    "   new_a=[]\n",
    "   for i in range(len(a)): ### создаем цикл для проходв по списку \n",
    "      if a[i] <5 : # условие для отбора чисел \n",
    "         new_a.append(a[i]) # добавление в новый списко\n",
    "   return new_a\n",
    "   pass\n",
    "   #return [i for i in a if i<5 ]\n",
    "\n",
    "func(a)"
   ]
  },
  {
   "attachments": {},
   "cell_type": "markdown",
   "metadata": {},
   "source": [
    "#### Дано вещественное число. Определить, какое это число: положительное, отрицательное, ноль."
   ]
  },
  {
   "cell_type": "code",
   "execution_count": 41,
   "metadata": {},
   "outputs": [
    {
     "data": {
      "text/plain": [
       "'отрицательное'"
      ]
     },
     "execution_count": 41,
     "metadata": {},
     "output_type": "execute_result"
    }
   ],
   "source": [
    "def func2(n):\n",
    "    if n==0: return 'ноль'\n",
    "    elif n>0: return \"положительное\"\n",
    "    else: return \"отрицательное\"\n",
    "\n",
    "func2(2)\n",
    "func2(-11111)\n",
    "func2(0)\n",
    "func2(-123)"
   ]
  },
  {
   "attachments": {},
   "cell_type": "markdown",
   "metadata": {},
   "source": [
    "#### Дан одномерный массив числовых значений, насчитывающий N элементов. Исключить все нулевые элементы.[]"
   ]
  },
  {
   "cell_type": "code",
   "execution_count": null,
   "metadata": {},
   "outputs": [],
   "source": [
    "def del_list(a):\n",
    "    i = 0\n",
    "    while i < len(a):\n",
    "        if a[i] == 0:\n",
    "            a.pop(i)\n",
    "        else:\n",
    "            i += 1\n",
    "    return a\n",
    "\n",
    "def del_list2(a):\n",
    "    for i in range(len(a)-1,-1,-1): # range( 100 , -1 , -1 )\n",
    "        if a[i] == 0: \n",
    "            a.pop(i) \n",
    "    return a\n",
    "\n",
    "def del_list3(a):\n",
    "    return [x for x in a if x != 0] \n",
    "\n",
    "def del_list4(a):\n",
    "    b = []\n",
    "    for x in a:\n",
    "        if x != 0:\n",
    "            b += [x]\n",
    "    \n",
    "    return b\n",
    "\n",
    "\n",
    "new_list=[123,2,34,25,345,34,54,564,56,456,4,64,64,56,45,6,63,6,357,5686,0,780,70,780,7,0,0,7087807807,0,70780,8070,7807,0]\n",
    "print(del_list(new_list))\n",
    "print(del_list2(new_list))\n",
    "print(del_list3(new_list))\n",
    "print(del_list2(new_list))"
   ]
  }
 ],
 "metadata": {
  "kernelspec": {
   "display_name": "Python 3",
   "language": "python",
   "name": "python3"
  },
  "language_info": {
   "codemirror_mode": {
    "name": "ipython",
    "version": 3
   },
   "file_extension": ".py",
   "mimetype": "text/x-python",
   "name": "python",
   "nbconvert_exporter": "python",
   "pygments_lexer": "ipython3",
   "version": "3.10.9"
  },
  "orig_nbformat": 4,
  "vscode": {
   "interpreter": {
    "hash": "5b4db7f276a6916ba8e3292a76bb1fa4a8499826366edb3126b3e9f0362fd1d0"
   }
  }
 },
 "nbformat": 4,
 "nbformat_minor": 2
}
